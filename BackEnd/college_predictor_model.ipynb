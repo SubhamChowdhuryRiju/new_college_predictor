{
 "cells": [
  {
   "cell_type": "markdown",
   "metadata": {},
   "source": [
    "# PVR Result Dataset and it's Prediction"
   ]
  },
  {
   "cell_type": "code",
   "execution_count": 22,
   "metadata": {},
   "outputs": [],
   "source": [
    "import pandas as pd \n",
    "import numpy as np \n",
    "from sklearn.model_selection import train\n",
    "from sklearn.model_selection import train_test_split\n",
    "from sklearn.linear_model import LinearRegression"
   ]
  },
  {
   "cell_type": "code",
   "execution_count": 23,
   "metadata": {},
   "outputs": [
    {
     "name": "stdout",
     "output_type": "stream",
     "text": [
      "Create regressors\n"
     ]
    }
   ],
   "source": [
    "rvp = pd.read_csv('rvp_cleaned.csv')\n",
    "print('Create regressors', flush=True)"
   ]
  },
  {
   "cell_type": "code",
   "execution_count": 24,
   "metadata": {},
   "outputs": [],
   "source": [
    "def create_regressor(rvp_):\n",
    "    X = rvp_['PERCENTILE'].values.reshape(-1, 1)\n",
    "    y = rvp_['RANK'].values.reshape(-1, 1)\n",
    "    X_train, X_test, y_train, y_test = train_test_split(X, y, test_size=0.2, random_state=0)\n",
    "    regressor = LinearRegression()\n",
    "    regressor.fit(X_train, y_train)\n",
    "    return regressor"
   ]
  },
  {
   "cell_type": "code",
   "execution_count": 25,
   "metadata": {},
   "outputs": [],
   "source": [
    "categories = ['GEN', 'EWS', 'SC', 'ST', 'OBC-NCL']\n",
    "regressors = {\n",
    "    category: [\n",
    "        create_regressor(rvp[rvp['CATEGORY'] == category]),\n",
    "        create_regressor(rvp[rvp['CATEGORY'] == category + '-PwD'])\n",
    "    ] for category in categories\n",
    "}"
   ]
  },
  {
   "cell_type": "code",
   "execution_count": 26,
   "metadata": {},
   "outputs": [],
   "source": [
    "def pvr(perc, pwd, category):\n",
    "    x = pd.Series([perc])\n",
    "    z = regressors[category][pwd == 'YES'].predict(x.values.reshape(-1, 1))\n",
    "    k = float(np.round(z))\n",
    "    if k <= 0:\n",
    "        k = 13\n",
    "    return k"
   ]
  },
  {
   "cell_type": "code",
   "execution_count": 27,
   "metadata": {},
   "outputs": [],
   "source": [
    "result = pvr(78.2, 'NO', 'GEN')"
   ]
  },
  {
   "cell_type": "code",
   "execution_count": 28,
   "metadata": {},
   "outputs": [
    {
     "data": {
      "text/plain": [
       "205872.0"
      ]
     },
     "execution_count": 28,
     "metadata": {},
     "output_type": "execute_result"
    }
   ],
   "source": [
    "result"
   ]
  },
  {
   "cell_type": "code",
   "execution_count": 20,
   "metadata": {},
   "outputs": [
    {
     "data": {
      "text/plain": [
       "float"
      ]
     },
     "execution_count": 20,
     "metadata": {},
     "output_type": "execute_result"
    }
   ],
   "source": [
    "type(result)"
   ]
  },
  {
   "cell_type": "markdown",
   "metadata": {},
   "source": [
    "# Prediction for College "
   ]
  },
  {
   "cell_type": "code",
   "execution_count": 2,
   "metadata": {},
   "outputs": [],
   "source": [
    "import pandas as pd \n",
    "import numpy as np "
   ]
  },
  {
   "cell_type": "code",
   "execution_count": 3,
   "metadata": {},
   "outputs": [],
   "source": [
    "dataset = pd.read_csv('cleaned.csv')"
   ]
  },
  {
   "cell_type": "code",
   "execution_count": null,
   "metadata": {},
   "outputs": [],
   "source": [
    "dataset"
   ]
  },
  {
   "cell_type": "code",
   "execution_count": 16,
   "metadata": {},
   "outputs": [],
   "source": [
    "def finalList(mainrank, perc, category, state, gender, pwd, limit, advrank):\n",
    "    dataset = pd.read_csv('cleaned.csv')\n",
    "\n",
    "    dataset[\"Closing Rank\"] = pd.to_numeric(dataset[\"Closing Rank\"], errors=\"coerce\").astype(\"Int64\")\n",
    "    # The algorithm showed some anomaly when %tile was 100.\n",
    "    # Hence, the following condition.\n",
    "    p_adv = pd.DataFrame()\n",
    "    p_mains = pd.DataFrame()\n",
    "    if mainrank == '-1':\n",
    "        rank = float(pvr(perc, pwd, category))\n",
    "    else:\n",
    "        rank = mainrank\n",
    "\n",
    "    if pwd == 'YES':\n",
    "        if gender == 'M':\n",
    "            catg = category + '-PwD'\n",
    "            if rank > 0:\n",
    "                p_mains = dataset[\n",
    "                    (dataset['Closing Rank'] >= rank) & ((dataset['Category'] == catg) | (dataset['Category'] == 'OPEN-PwD')) & (\n",
    "                                dataset['Gender'] == 'Gender-Neutral') & (dataset['IIT'] == 0)]\n",
    "            if advrank > 0:\n",
    "                p_adv = dataset[\n",
    "                    (dataset['Closing Rank'] >= advrank) & ((dataset['Category'] == catg) | (dataset['Category'] == 'OPEN-PwD')) & (\n",
    "                                dataset['Gender'] == 'Gender-Neutral') & (dataset['IIT'] == 1)]\n",
    "        else:\n",
    "            catg = category + '-PwD'\n",
    "            if rank > 0:\n",
    "                p_mains = dataset[\n",
    "                    (dataset['Closing Rank'] >= rank) & ((dataset['Category'] == catg) | (dataset['Category'] == 'OPEN-PwD')) & (\n",
    "                                dataset['IIT'] == 0)]\n",
    "            if advrank > 0:\n",
    "                p_adv = dataset[\n",
    "                    (dataset['Closing Rank'] >= advrank) & ((dataset['Category'] == catg) | (dataset['Category'] == 'OPEN-PwD')) & (\n",
    "                                dataset['IIT'] == 1)]\n",
    "    else:\n",
    "        if gender == 'M':\n",
    "            if rank > 0:\n",
    "                p_mains = dataset[\n",
    "                    (dataset['Closing Rank'] >= rank) & ((dataset['Category'] == category) | (dataset['Category'] == 'OPEN')) & (\n",
    "                                dataset['Gender'] == 'Gender-Neutral') & (dataset['IIT'] == 0)]\n",
    "            if advrank > 0:\n",
    "                p_adv = dataset[\n",
    "                    (dataset['Closing Rank'] >= advrank) & ((dataset['Category'] == category) | (dataset['Category'] == 'OPEN')) & (\n",
    "                                dataset['Gender'] == 'Gender-Neutral') & (dataset['IIT'] == 1)]\n",
    "        else:\n",
    "            if rank > 0:\n",
    "                p_mains = dataset[\n",
    "                    (dataset['Closing Rank'] >= rank) & ((dataset['Category'] == category) | (dataset['Category'] == 'OPEN')) & (\n",
    "                                dataset['IIT'] == 0)]\n",
    "            if advrank > 0:\n",
    "                p_adv = dataset[\n",
    "                    (dataset['Closing Rank'] >= advrank) & ((dataset['Category'] == category) | (dataset['Category'] == 'OPEN')) & (\n",
    "                                dataset['IIT'] == 1)]\n",
    "\n",
    "    if not p_adv.empty and (not p_mains.empty):\n",
    "        p = pd.concat([p_adv, p_mains])\n",
    "    elif not p_mains.empty:\n",
    "        p = p_mains\n",
    "    else:\n",
    "        p = p_adv\n",
    "\n",
    "    v = []\n",
    "    for i in p.index:\n",
    "        if p['State'][i] == state:\n",
    "            if p['Quota'][i] != 'HS':\n",
    "                v.append(i)\n",
    "        elif (p['Quota'][i] != 'OS') and (p['Quota'][i] != 'AI'):\n",
    "            v.append(i)\n",
    "\n",
    "    q = p.drop(index=v)\n",
    "    if q.shape[0] > 0:\n",
    "        q = q.sort_values(by='Closing Rank')\n",
    "        q = q[0:limit]\n",
    "        x = q.drop(['Unnamed: 0', 'index', 'Category', 'Opening Rank', 'IIT', 'Round'], axis=1).drop_duplicates()\n",
    "        x.reset_index(inplace=True, drop=True)\n",
    "        x.index = x.index + 1\n",
    "        return x\n",
    "    else:\n",
    "        return pd.DataFrame()"
   ]
  },
  {
   "cell_type": "code",
   "execution_count": 18,
   "metadata": {},
   "outputs": [],
   "source": [
    "# finalList(int(mains_rank), float(percentile), category, home_state, gender, pwd, limit, int(advanced_rank))\n",
    "result_list = finalList(403, 69.3, 'GEN', 'Rajasthan', 'M', 'NO', 10, 562)"
   ]
  },
  {
   "cell_type": "code",
   "execution_count": 19,
   "metadata": {},
   "outputs": [
    {
     "data": {
      "text/html": [
       "<div>\n",
       "<style scoped>\n",
       "    .dataframe tbody tr th:only-of-type {\n",
       "        vertical-align: middle;\n",
       "    }\n",
       "\n",
       "    .dataframe tbody tr th {\n",
       "        vertical-align: top;\n",
       "    }\n",
       "\n",
       "    .dataframe thead th {\n",
       "        text-align: right;\n",
       "    }\n",
       "</style>\n",
       "<table border=\"1\" class=\"dataframe\">\n",
       "  <thead>\n",
       "    <tr style=\"text-align: right;\">\n",
       "      <th></th>\n",
       "      <th>Institute</th>\n",
       "      <th>Academic Program Name</th>\n",
       "      <th>Quota</th>\n",
       "      <th>Gender</th>\n",
       "      <th>Closing Rank</th>\n",
       "      <th>Course Time</th>\n",
       "      <th>Degree Type</th>\n",
       "      <th>State</th>\n",
       "    </tr>\n",
       "  </thead>\n",
       "  <tbody>\n",
       "    <tr>\n",
       "      <th>1</th>\n",
       "      <td>School of Planning &amp; Architecture, Bhopal</td>\n",
       "      <td>Architecture</td>\n",
       "      <td>AI</td>\n",
       "      <td>Gender-Neutral</td>\n",
       "      <td>429</td>\n",
       "      <td>5</td>\n",
       "      <td>Bachelor of Architecture</td>\n",
       "      <td>Madhya Pradesh</td>\n",
       "    </tr>\n",
       "    <tr>\n",
       "      <th>2</th>\n",
       "      <td>National Institute of Technology Calicut</td>\n",
       "      <td>Architecture</td>\n",
       "      <td>OS</td>\n",
       "      <td>Gender-Neutral</td>\n",
       "      <td>491</td>\n",
       "      <td>5</td>\n",
       "      <td>Bachelor of Architecture</td>\n",
       "      <td>Kerala</td>\n",
       "    </tr>\n",
       "    <tr>\n",
       "      <th>3</th>\n",
       "      <td>Indian Institute of Technology Delhi</td>\n",
       "      <td>Electrical Engineering</td>\n",
       "      <td>AI</td>\n",
       "      <td>Gender-Neutral</td>\n",
       "      <td>574</td>\n",
       "      <td>4</td>\n",
       "      <td>Bachelor of Technology</td>\n",
       "      <td>New Delhi</td>\n",
       "    </tr>\n",
       "    <tr>\n",
       "      <th>4</th>\n",
       "      <td>School of Planning &amp; Architecture: Vijayawada</td>\n",
       "      <td>Architecture</td>\n",
       "      <td>AI</td>\n",
       "      <td>Gender-Neutral</td>\n",
       "      <td>581</td>\n",
       "      <td>5</td>\n",
       "      <td>Bachelor of Architecture</td>\n",
       "      <td>Andhra Pradesh</td>\n",
       "    </tr>\n",
       "    <tr>\n",
       "      <th>5</th>\n",
       "      <td>Indian Institute of Technology Guwahati</td>\n",
       "      <td>Computer Science and Engineering</td>\n",
       "      <td>AI</td>\n",
       "      <td>Gender-Neutral</td>\n",
       "      <td>589</td>\n",
       "      <td>4</td>\n",
       "      <td>Bachelor of Technology</td>\n",
       "      <td>Assam</td>\n",
       "    </tr>\n",
       "    <tr>\n",
       "      <th>6</th>\n",
       "      <td>Indian Institute of Technology Hyderabad</td>\n",
       "      <td>Computer Science and Engineering</td>\n",
       "      <td>AI</td>\n",
       "      <td>Gender-Neutral</td>\n",
       "      <td>608</td>\n",
       "      <td>4</td>\n",
       "      <td>Bachelor of Technology</td>\n",
       "      <td>Telangana</td>\n",
       "    </tr>\n",
       "    <tr>\n",
       "      <th>7</th>\n",
       "      <td>National Institute of Technology, Rourkela</td>\n",
       "      <td>Architecture</td>\n",
       "      <td>OS</td>\n",
       "      <td>Gender-Neutral</td>\n",
       "      <td>622</td>\n",
       "      <td>5</td>\n",
       "      <td>Bachelor of Architecture</td>\n",
       "      <td>Odisha</td>\n",
       "    </tr>\n",
       "    <tr>\n",
       "      <th>8</th>\n",
       "      <td>Maulana Azad National Institute of Technology ...</td>\n",
       "      <td>Planning</td>\n",
       "      <td>OS</td>\n",
       "      <td>Gender-Neutral</td>\n",
       "      <td>663</td>\n",
       "      <td>4</td>\n",
       "      <td>Bachelor of Planning</td>\n",
       "      <td>Madhya Pradesh</td>\n",
       "    </tr>\n",
       "    <tr>\n",
       "      <th>9</th>\n",
       "      <td>Indian Institute of Technology Delhi</td>\n",
       "      <td>Electrical Engineering (Power and Automation)</td>\n",
       "      <td>AI</td>\n",
       "      <td>Gender-Neutral</td>\n",
       "      <td>797</td>\n",
       "      <td>4</td>\n",
       "      <td>Bachelor of Technology</td>\n",
       "      <td>New Delhi</td>\n",
       "    </tr>\n",
       "    <tr>\n",
       "      <th>10</th>\n",
       "      <td>School of Planning &amp; Architecture, Bhopal</td>\n",
       "      <td>Planning</td>\n",
       "      <td>AI</td>\n",
       "      <td>Gender-Neutral</td>\n",
       "      <td>818</td>\n",
       "      <td>4</td>\n",
       "      <td>Bachelor of Planning</td>\n",
       "      <td>Madhya Pradesh</td>\n",
       "    </tr>\n",
       "  </tbody>\n",
       "</table>\n",
       "</div>"
      ],
      "text/plain": [
       "                                            Institute  \\\n",
       "1           School of Planning & Architecture, Bhopal   \n",
       "2            National Institute of Technology Calicut   \n",
       "3                Indian Institute of Technology Delhi   \n",
       "4       School of Planning & Architecture: Vijayawada   \n",
       "5             Indian Institute of Technology Guwahati   \n",
       "6            Indian Institute of Technology Hyderabad   \n",
       "7          National Institute of Technology, Rourkela   \n",
       "8   Maulana Azad National Institute of Technology ...   \n",
       "9                Indian Institute of Technology Delhi   \n",
       "10          School of Planning & Architecture, Bhopal   \n",
       "\n",
       "                            Academic Program Name Quota          Gender  \\\n",
       "1                                    Architecture    AI  Gender-Neutral   \n",
       "2                                    Architecture    OS  Gender-Neutral   \n",
       "3                          Electrical Engineering    AI  Gender-Neutral   \n",
       "4                                    Architecture    AI  Gender-Neutral   \n",
       "5                Computer Science and Engineering    AI  Gender-Neutral   \n",
       "6                Computer Science and Engineering    AI  Gender-Neutral   \n",
       "7                                    Architecture    OS  Gender-Neutral   \n",
       "8                                        Planning    OS  Gender-Neutral   \n",
       "9   Electrical Engineering (Power and Automation)    AI  Gender-Neutral   \n",
       "10                                       Planning    AI  Gender-Neutral   \n",
       "\n",
       "    Closing Rank  Course Time               Degree Type           State  \n",
       "1            429            5  Bachelor of Architecture  Madhya Pradesh  \n",
       "2            491            5  Bachelor of Architecture          Kerala  \n",
       "3            574            4    Bachelor of Technology       New Delhi  \n",
       "4            581            5  Bachelor of Architecture  Andhra Pradesh  \n",
       "5            589            4    Bachelor of Technology           Assam  \n",
       "6            608            4    Bachelor of Technology       Telangana  \n",
       "7            622            5  Bachelor of Architecture          Odisha  \n",
       "8            663            4      Bachelor of Planning  Madhya Pradesh  \n",
       "9            797            4    Bachelor of Technology       New Delhi  \n",
       "10           818            4      Bachelor of Planning  Madhya Pradesh  "
      ]
     },
     "execution_count": 19,
     "metadata": {},
     "output_type": "execute_result"
    }
   ],
   "source": [
    "result_list"
   ]
  },
  {
   "cell_type": "code",
   "execution_count": 21,
   "metadata": {},
   "outputs": [
    {
     "data": {
      "text/plain": [
       "pandas.core.frame.DataFrame"
      ]
     },
     "execution_count": 21,
     "metadata": {},
     "output_type": "execute_result"
    }
   ],
   "source": [
    "type(result_list)"
   ]
  }
 ],
 "metadata": {
  "kernelspec": {
   "display_name": "base",
   "language": "python",
   "name": "python3"
  },
  "language_info": {
   "codemirror_mode": {
    "name": "ipython",
    "version": 3
   },
   "file_extension": ".py",
   "mimetype": "text/x-python",
   "name": "python",
   "nbconvert_exporter": "python",
   "pygments_lexer": "ipython3",
   "version": "3.11.5"
  }
 },
 "nbformat": 4,
 "nbformat_minor": 2
}
